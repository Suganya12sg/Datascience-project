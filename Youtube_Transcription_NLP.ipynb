{
  "nbformat": 4,
  "nbformat_minor": 0,
  "metadata": {
    "colab": {
      "provenance": [],
      "toc_visible": true,
      "authorship_tag": "ABX9TyPPiS2eQ+8m7AezssOK4SsJ",
      "include_colab_link": true
    },
    "kernelspec": {
      "name": "python3",
      "display_name": "Python 3"
    },
    "language_info": {
      "name": "python"
    },
    "widgets": {
      "application/vnd.jupyter.widget-state+json": {
        "b5492524c1ee4f68baa7778c82126cab": {
          "model_module": "@jupyter-widgets/controls",
          "model_name": "HBoxModel",
          "model_module_version": "1.5.0",
          "state": {
            "_dom_classes": [],
            "_model_module": "@jupyter-widgets/controls",
            "_model_module_version": "1.5.0",
            "_model_name": "HBoxModel",
            "_view_count": null,
            "_view_module": "@jupyter-widgets/controls",
            "_view_module_version": "1.5.0",
            "_view_name": "HBoxView",
            "box_style": "",
            "children": [
              "IPY_MODEL_7e58f4b6874449a08d0e1473fa3d9939",
              "IPY_MODEL_6c0f13610cc845ad843578b2d1f57c6a",
              "IPY_MODEL_f18687ba118947748bcfbb27ed85046d"
            ],
            "layout": "IPY_MODEL_e3027a9cd8df422c99c2d4fe5dcea0c9"
          }
        },
        "7e58f4b6874449a08d0e1473fa3d9939": {
          "model_module": "@jupyter-widgets/controls",
          "model_name": "HTMLModel",
          "model_module_version": "1.5.0",
          "state": {
            "_dom_classes": [],
            "_model_module": "@jupyter-widgets/controls",
            "_model_module_version": "1.5.0",
            "_model_name": "HTMLModel",
            "_view_count": null,
            "_view_module": "@jupyter-widgets/controls",
            "_view_module_version": "1.5.0",
            "_view_name": "HTMLView",
            "description": "",
            "description_tooltip": null,
            "layout": "IPY_MODEL_1eb22a0f44c14047b9665cf3f0a91008",
            "placeholder": "​",
            "style": "IPY_MODEL_d1d68adf4d2644b8922ce60187c0b237",
            "value": "config.json: 100%"
          }
        },
        "6c0f13610cc845ad843578b2d1f57c6a": {
          "model_module": "@jupyter-widgets/controls",
          "model_name": "FloatProgressModel",
          "model_module_version": "1.5.0",
          "state": {
            "_dom_classes": [],
            "_model_module": "@jupyter-widgets/controls",
            "_model_module_version": "1.5.0",
            "_model_name": "FloatProgressModel",
            "_view_count": null,
            "_view_module": "@jupyter-widgets/controls",
            "_view_module_version": "1.5.0",
            "_view_name": "ProgressView",
            "bar_style": "success",
            "description": "",
            "description_tooltip": null,
            "layout": "IPY_MODEL_9e20721013474f9f95227dec67197a02",
            "max": 1802,
            "min": 0,
            "orientation": "horizontal",
            "style": "IPY_MODEL_42b23a1d361846bba82f9006c5d18323",
            "value": 1802
          }
        },
        "f18687ba118947748bcfbb27ed85046d": {
          "model_module": "@jupyter-widgets/controls",
          "model_name": "HTMLModel",
          "model_module_version": "1.5.0",
          "state": {
            "_dom_classes": [],
            "_model_module": "@jupyter-widgets/controls",
            "_model_module_version": "1.5.0",
            "_model_name": "HTMLModel",
            "_view_count": null,
            "_view_module": "@jupyter-widgets/controls",
            "_view_module_version": "1.5.0",
            "_view_name": "HTMLView",
            "description": "",
            "description_tooltip": null,
            "layout": "IPY_MODEL_832ca079b35a4e4e8c9961bc08ff3526",
            "placeholder": "​",
            "style": "IPY_MODEL_c7ba7bc0b05f497fad8a6c3a67a39202",
            "value": " 1.80k/1.80k [00:00&lt;00:00, 85.0kB/s]"
          }
        },
        "e3027a9cd8df422c99c2d4fe5dcea0c9": {
          "model_module": "@jupyter-widgets/base",
          "model_name": "LayoutModel",
          "model_module_version": "1.2.0",
          "state": {
            "_model_module": "@jupyter-widgets/base",
            "_model_module_version": "1.2.0",
            "_model_name": "LayoutModel",
            "_view_count": null,
            "_view_module": "@jupyter-widgets/base",
            "_view_module_version": "1.2.0",
            "_view_name": "LayoutView",
            "align_content": null,
            "align_items": null,
            "align_self": null,
            "border": null,
            "bottom": null,
            "display": null,
            "flex": null,
            "flex_flow": null,
            "grid_area": null,
            "grid_auto_columns": null,
            "grid_auto_flow": null,
            "grid_auto_rows": null,
            "grid_column": null,
            "grid_gap": null,
            "grid_row": null,
            "grid_template_areas": null,
            "grid_template_columns": null,
            "grid_template_rows": null,
            "height": null,
            "justify_content": null,
            "justify_items": null,
            "left": null,
            "margin": null,
            "max_height": null,
            "max_width": null,
            "min_height": null,
            "min_width": null,
            "object_fit": null,
            "object_position": null,
            "order": null,
            "overflow": null,
            "overflow_x": null,
            "overflow_y": null,
            "padding": null,
            "right": null,
            "top": null,
            "visibility": null,
            "width": null
          }
        },
        "1eb22a0f44c14047b9665cf3f0a91008": {
          "model_module": "@jupyter-widgets/base",
          "model_name": "LayoutModel",
          "model_module_version": "1.2.0",
          "state": {
            "_model_module": "@jupyter-widgets/base",
            "_model_module_version": "1.2.0",
            "_model_name": "LayoutModel",
            "_view_count": null,
            "_view_module": "@jupyter-widgets/base",
            "_view_module_version": "1.2.0",
            "_view_name": "LayoutView",
            "align_content": null,
            "align_items": null,
            "align_self": null,
            "border": null,
            "bottom": null,
            "display": null,
            "flex": null,
            "flex_flow": null,
            "grid_area": null,
            "grid_auto_columns": null,
            "grid_auto_flow": null,
            "grid_auto_rows": null,
            "grid_column": null,
            "grid_gap": null,
            "grid_row": null,
            "grid_template_areas": null,
            "grid_template_columns": null,
            "grid_template_rows": null,
            "height": null,
            "justify_content": null,
            "justify_items": null,
            "left": null,
            "margin": null,
            "max_height": null,
            "max_width": null,
            "min_height": null,
            "min_width": null,
            "object_fit": null,
            "object_position": null,
            "order": null,
            "overflow": null,
            "overflow_x": null,
            "overflow_y": null,
            "padding": null,
            "right": null,
            "top": null,
            "visibility": null,
            "width": null
          }
        },
        "d1d68adf4d2644b8922ce60187c0b237": {
          "model_module": "@jupyter-widgets/controls",
          "model_name": "DescriptionStyleModel",
          "model_module_version": "1.5.0",
          "state": {
            "_model_module": "@jupyter-widgets/controls",
            "_model_module_version": "1.5.0",
            "_model_name": "DescriptionStyleModel",
            "_view_count": null,
            "_view_module": "@jupyter-widgets/base",
            "_view_module_version": "1.2.0",
            "_view_name": "StyleView",
            "description_width": ""
          }
        },
        "9e20721013474f9f95227dec67197a02": {
          "model_module": "@jupyter-widgets/base",
          "model_name": "LayoutModel",
          "model_module_version": "1.2.0",
          "state": {
            "_model_module": "@jupyter-widgets/base",
            "_model_module_version": "1.2.0",
            "_model_name": "LayoutModel",
            "_view_count": null,
            "_view_module": "@jupyter-widgets/base",
            "_view_module_version": "1.2.0",
            "_view_name": "LayoutView",
            "align_content": null,
            "align_items": null,
            "align_self": null,
            "border": null,
            "bottom": null,
            "display": null,
            "flex": null,
            "flex_flow": null,
            "grid_area": null,
            "grid_auto_columns": null,
            "grid_auto_flow": null,
            "grid_auto_rows": null,
            "grid_column": null,
            "grid_gap": null,
            "grid_row": null,
            "grid_template_areas": null,
            "grid_template_columns": null,
            "grid_template_rows": null,
            "height": null,
            "justify_content": null,
            "justify_items": null,
            "left": null,
            "margin": null,
            "max_height": null,
            "max_width": null,
            "min_height": null,
            "min_width": null,
            "object_fit": null,
            "object_position": null,
            "order": null,
            "overflow": null,
            "overflow_x": null,
            "overflow_y": null,
            "padding": null,
            "right": null,
            "top": null,
            "visibility": null,
            "width": null
          }
        },
        "42b23a1d361846bba82f9006c5d18323": {
          "model_module": "@jupyter-widgets/controls",
          "model_name": "ProgressStyleModel",
          "model_module_version": "1.5.0",
          "state": {
            "_model_module": "@jupyter-widgets/controls",
            "_model_module_version": "1.5.0",
            "_model_name": "ProgressStyleModel",
            "_view_count": null,
            "_view_module": "@jupyter-widgets/base",
            "_view_module_version": "1.2.0",
            "_view_name": "StyleView",
            "bar_color": null,
            "description_width": ""
          }
        },
        "832ca079b35a4e4e8c9961bc08ff3526": {
          "model_module": "@jupyter-widgets/base",
          "model_name": "LayoutModel",
          "model_module_version": "1.2.0",
          "state": {
            "_model_module": "@jupyter-widgets/base",
            "_model_module_version": "1.2.0",
            "_model_name": "LayoutModel",
            "_view_count": null,
            "_view_module": "@jupyter-widgets/base",
            "_view_module_version": "1.2.0",
            "_view_name": "LayoutView",
            "align_content": null,
            "align_items": null,
            "align_self": null,
            "border": null,
            "bottom": null,
            "display": null,
            "flex": null,
            "flex_flow": null,
            "grid_area": null,
            "grid_auto_columns": null,
            "grid_auto_flow": null,
            "grid_auto_rows": null,
            "grid_column": null,
            "grid_gap": null,
            "grid_row": null,
            "grid_template_areas": null,
            "grid_template_columns": null,
            "grid_template_rows": null,
            "height": null,
            "justify_content": null,
            "justify_items": null,
            "left": null,
            "margin": null,
            "max_height": null,
            "max_width": null,
            "min_height": null,
            "min_width": null,
            "object_fit": null,
            "object_position": null,
            "order": null,
            "overflow": null,
            "overflow_x": null,
            "overflow_y": null,
            "padding": null,
            "right": null,
            "top": null,
            "visibility": null,
            "width": null
          }
        },
        "c7ba7bc0b05f497fad8a6c3a67a39202": {
          "model_module": "@jupyter-widgets/controls",
          "model_name": "DescriptionStyleModel",
          "model_module_version": "1.5.0",
          "state": {
            "_model_module": "@jupyter-widgets/controls",
            "_model_module_version": "1.5.0",
            "_model_name": "DescriptionStyleModel",
            "_view_count": null,
            "_view_module": "@jupyter-widgets/base",
            "_view_module_version": "1.2.0",
            "_view_name": "StyleView",
            "description_width": ""
          }
        },
        "f082b219699d496d99d7461e8799d8df": {
          "model_module": "@jupyter-widgets/controls",
          "model_name": "HBoxModel",
          "model_module_version": "1.5.0",
          "state": {
            "_dom_classes": [],
            "_model_module": "@jupyter-widgets/controls",
            "_model_module_version": "1.5.0",
            "_model_name": "HBoxModel",
            "_view_count": null,
            "_view_module": "@jupyter-widgets/controls",
            "_view_module_version": "1.5.0",
            "_view_name": "HBoxView",
            "box_style": "",
            "children": [
              "IPY_MODEL_3995cebb75f440dda5576387051d8f99",
              "IPY_MODEL_d383317e3328491b9c4860ba4b92e26d",
              "IPY_MODEL_10c2f38bbd834691895ba00e871b6cce"
            ],
            "layout": "IPY_MODEL_cb3740614b2941c2b5efd694ca6a0c06"
          }
        },
        "3995cebb75f440dda5576387051d8f99": {
          "model_module": "@jupyter-widgets/controls",
          "model_name": "HTMLModel",
          "model_module_version": "1.5.0",
          "state": {
            "_dom_classes": [],
            "_model_module": "@jupyter-widgets/controls",
            "_model_module_version": "1.5.0",
            "_model_name": "HTMLModel",
            "_view_count": null,
            "_view_module": "@jupyter-widgets/controls",
            "_view_module_version": "1.5.0",
            "_view_name": "HTMLView",
            "description": "",
            "description_tooltip": null,
            "layout": "IPY_MODEL_f9e0ddadb2c44856838ffbae203996e3",
            "placeholder": "​",
            "style": "IPY_MODEL_dffda3c44c2d403697946437218afe41",
            "value": "pytorch_model.bin: 100%"
          }
        },
        "d383317e3328491b9c4860ba4b92e26d": {
          "model_module": "@jupyter-widgets/controls",
          "model_name": "FloatProgressModel",
          "model_module_version": "1.5.0",
          "state": {
            "_dom_classes": [],
            "_model_module": "@jupyter-widgets/controls",
            "_model_module_version": "1.5.0",
            "_model_name": "FloatProgressModel",
            "_view_count": null,
            "_view_module": "@jupyter-widgets/controls",
            "_view_module_version": "1.5.0",
            "_view_name": "ProgressView",
            "bar_style": "success",
            "description": "",
            "description_tooltip": null,
            "layout": "IPY_MODEL_2ea95f3faa7d462198321e7ca6b0b0f0",
            "max": 1222317369,
            "min": 0,
            "orientation": "horizontal",
            "style": "IPY_MODEL_241834636ada4dd3a380641e01f2d682",
            "value": 1222317369
          }
        },
        "10c2f38bbd834691895ba00e871b6cce": {
          "model_module": "@jupyter-widgets/controls",
          "model_name": "HTMLModel",
          "model_module_version": "1.5.0",
          "state": {
            "_dom_classes": [],
            "_model_module": "@jupyter-widgets/controls",
            "_model_module_version": "1.5.0",
            "_model_name": "HTMLModel",
            "_view_count": null,
            "_view_module": "@jupyter-widgets/controls",
            "_view_module_version": "1.5.0",
            "_view_name": "HTMLView",
            "description": "",
            "description_tooltip": null,
            "layout": "IPY_MODEL_d5f8e88ee3a54fe5bcb704dc4a9e3345",
            "placeholder": "​",
            "style": "IPY_MODEL_3fdc57e0e82d472c9508df6254883ddc",
            "value": " 1.22G/1.22G [00:10&lt;00:00, 107MB/s]"
          }
        },
        "cb3740614b2941c2b5efd694ca6a0c06": {
          "model_module": "@jupyter-widgets/base",
          "model_name": "LayoutModel",
          "model_module_version": "1.2.0",
          "state": {
            "_model_module": "@jupyter-widgets/base",
            "_model_module_version": "1.2.0",
            "_model_name": "LayoutModel",
            "_view_count": null,
            "_view_module": "@jupyter-widgets/base",
            "_view_module_version": "1.2.0",
            "_view_name": "LayoutView",
            "align_content": null,
            "align_items": null,
            "align_self": null,
            "border": null,
            "bottom": null,
            "display": null,
            "flex": null,
            "flex_flow": null,
            "grid_area": null,
            "grid_auto_columns": null,
            "grid_auto_flow": null,
            "grid_auto_rows": null,
            "grid_column": null,
            "grid_gap": null,
            "grid_row": null,
            "grid_template_areas": null,
            "grid_template_columns": null,
            "grid_template_rows": null,
            "height": null,
            "justify_content": null,
            "justify_items": null,
            "left": null,
            "margin": null,
            "max_height": null,
            "max_width": null,
            "min_height": null,
            "min_width": null,
            "object_fit": null,
            "object_position": null,
            "order": null,
            "overflow": null,
            "overflow_x": null,
            "overflow_y": null,
            "padding": null,
            "right": null,
            "top": null,
            "visibility": null,
            "width": null
          }
        },
        "f9e0ddadb2c44856838ffbae203996e3": {
          "model_module": "@jupyter-widgets/base",
          "model_name": "LayoutModel",
          "model_module_version": "1.2.0",
          "state": {
            "_model_module": "@jupyter-widgets/base",
            "_model_module_version": "1.2.0",
            "_model_name": "LayoutModel",
            "_view_count": null,
            "_view_module": "@jupyter-widgets/base",
            "_view_module_version": "1.2.0",
            "_view_name": "LayoutView",
            "align_content": null,
            "align_items": null,
            "align_self": null,
            "border": null,
            "bottom": null,
            "display": null,
            "flex": null,
            "flex_flow": null,
            "grid_area": null,
            "grid_auto_columns": null,
            "grid_auto_flow": null,
            "grid_auto_rows": null,
            "grid_column": null,
            "grid_gap": null,
            "grid_row": null,
            "grid_template_areas": null,
            "grid_template_columns": null,
            "grid_template_rows": null,
            "height": null,
            "justify_content": null,
            "justify_items": null,
            "left": null,
            "margin": null,
            "max_height": null,
            "max_width": null,
            "min_height": null,
            "min_width": null,
            "object_fit": null,
            "object_position": null,
            "order": null,
            "overflow": null,
            "overflow_x": null,
            "overflow_y": null,
            "padding": null,
            "right": null,
            "top": null,
            "visibility": null,
            "width": null
          }
        },
        "dffda3c44c2d403697946437218afe41": {
          "model_module": "@jupyter-widgets/controls",
          "model_name": "DescriptionStyleModel",
          "model_module_version": "1.5.0",
          "state": {
            "_model_module": "@jupyter-widgets/controls",
            "_model_module_version": "1.5.0",
            "_model_name": "DescriptionStyleModel",
            "_view_count": null,
            "_view_module": "@jupyter-widgets/base",
            "_view_module_version": "1.2.0",
            "_view_name": "StyleView",
            "description_width": ""
          }
        },
        "2ea95f3faa7d462198321e7ca6b0b0f0": {
          "model_module": "@jupyter-widgets/base",
          "model_name": "LayoutModel",
          "model_module_version": "1.2.0",
          "state": {
            "_model_module": "@jupyter-widgets/base",
            "_model_module_version": "1.2.0",
            "_model_name": "LayoutModel",
            "_view_count": null,
            "_view_module": "@jupyter-widgets/base",
            "_view_module_version": "1.2.0",
            "_view_name": "LayoutView",
            "align_content": null,
            "align_items": null,
            "align_self": null,
            "border": null,
            "bottom": null,
            "display": null,
            "flex": null,
            "flex_flow": null,
            "grid_area": null,
            "grid_auto_columns": null,
            "grid_auto_flow": null,
            "grid_auto_rows": null,
            "grid_column": null,
            "grid_gap": null,
            "grid_row": null,
            "grid_template_areas": null,
            "grid_template_columns": null,
            "grid_template_rows": null,
            "height": null,
            "justify_content": null,
            "justify_items": null,
            "left": null,
            "margin": null,
            "max_height": null,
            "max_width": null,
            "min_height": null,
            "min_width": null,
            "object_fit": null,
            "object_position": null,
            "order": null,
            "overflow": null,
            "overflow_x": null,
            "overflow_y": null,
            "padding": null,
            "right": null,
            "top": null,
            "visibility": null,
            "width": null
          }
        },
        "241834636ada4dd3a380641e01f2d682": {
          "model_module": "@jupyter-widgets/controls",
          "model_name": "ProgressStyleModel",
          "model_module_version": "1.5.0",
          "state": {
            "_model_module": "@jupyter-widgets/controls",
            "_model_module_version": "1.5.0",
            "_model_name": "ProgressStyleModel",
            "_view_count": null,
            "_view_module": "@jupyter-widgets/base",
            "_view_module_version": "1.2.0",
            "_view_name": "StyleView",
            "bar_color": null,
            "description_width": ""
          }
        },
        "d5f8e88ee3a54fe5bcb704dc4a9e3345": {
          "model_module": "@jupyter-widgets/base",
          "model_name": "LayoutModel",
          "model_module_version": "1.2.0",
          "state": {
            "_model_module": "@jupyter-widgets/base",
            "_model_module_version": "1.2.0",
            "_model_name": "LayoutModel",
            "_view_count": null,
            "_view_module": "@jupyter-widgets/base",
            "_view_module_version": "1.2.0",
            "_view_name": "LayoutView",
            "align_content": null,
            "align_items": null,
            "align_self": null,
            "border": null,
            "bottom": null,
            "display": null,
            "flex": null,
            "flex_flow": null,
            "grid_area": null,
            "grid_auto_columns": null,
            "grid_auto_flow": null,
            "grid_auto_rows": null,
            "grid_column": null,
            "grid_gap": null,
            "grid_row": null,
            "grid_template_areas": null,
            "grid_template_columns": null,
            "grid_template_rows": null,
            "height": null,
            "justify_content": null,
            "justify_items": null,
            "left": null,
            "margin": null,
            "max_height": null,
            "max_width": null,
            "min_height": null,
            "min_width": null,
            "object_fit": null,
            "object_position": null,
            "order": null,
            "overflow": null,
            "overflow_x": null,
            "overflow_y": null,
            "padding": null,
            "right": null,
            "top": null,
            "visibility": null,
            "width": null
          }
        },
        "3fdc57e0e82d472c9508df6254883ddc": {
          "model_module": "@jupyter-widgets/controls",
          "model_name": "DescriptionStyleModel",
          "model_module_version": "1.5.0",
          "state": {
            "_model_module": "@jupyter-widgets/controls",
            "_model_module_version": "1.5.0",
            "_model_name": "DescriptionStyleModel",
            "_view_count": null,
            "_view_module": "@jupyter-widgets/base",
            "_view_module_version": "1.2.0",
            "_view_name": "StyleView",
            "description_width": ""
          }
        },
        "047dd2766f7d4cbbaadb41857722668c": {
          "model_module": "@jupyter-widgets/controls",
          "model_name": "HBoxModel",
          "model_module_version": "1.5.0",
          "state": {
            "_dom_classes": [],
            "_model_module": "@jupyter-widgets/controls",
            "_model_module_version": "1.5.0",
            "_model_name": "HBoxModel",
            "_view_count": null,
            "_view_module": "@jupyter-widgets/controls",
            "_view_module_version": "1.5.0",
            "_view_name": "HBoxView",
            "box_style": "",
            "children": [
              "IPY_MODEL_22a715bf5918421390418d0d27696702",
              "IPY_MODEL_9da5863b3caa4176bc6acd4165a13e7e",
              "IPY_MODEL_07bd1ebe1adb4027aacfaefa740059fa"
            ],
            "layout": "IPY_MODEL_3e434771eac24831be789a32f2ca3ade"
          }
        },
        "22a715bf5918421390418d0d27696702": {
          "model_module": "@jupyter-widgets/controls",
          "model_name": "HTMLModel",
          "model_module_version": "1.5.0",
          "state": {
            "_dom_classes": [],
            "_model_module": "@jupyter-widgets/controls",
            "_model_module_version": "1.5.0",
            "_model_name": "HTMLModel",
            "_view_count": null,
            "_view_module": "@jupyter-widgets/controls",
            "_view_module_version": "1.5.0",
            "_view_name": "HTMLView",
            "description": "",
            "description_tooltip": null,
            "layout": "IPY_MODEL_bd1173049fef45d28c1446ef7b010849",
            "placeholder": "​",
            "style": "IPY_MODEL_a99fd0aed5634471a383e51ccd847375",
            "value": "tokenizer_config.json: 100%"
          }
        },
        "9da5863b3caa4176bc6acd4165a13e7e": {
          "model_module": "@jupyter-widgets/controls",
          "model_name": "FloatProgressModel",
          "model_module_version": "1.5.0",
          "state": {
            "_dom_classes": [],
            "_model_module": "@jupyter-widgets/controls",
            "_model_module_version": "1.5.0",
            "_model_name": "FloatProgressModel",
            "_view_count": null,
            "_view_module": "@jupyter-widgets/controls",
            "_view_module_version": "1.5.0",
            "_view_name": "ProgressView",
            "bar_style": "success",
            "description": "",
            "description_tooltip": null,
            "layout": "IPY_MODEL_b58badfc1b3d407fa5d6b7c4cc7b5f1f",
            "max": 26,
            "min": 0,
            "orientation": "horizontal",
            "style": "IPY_MODEL_91756cdeb8264060a785a1b103d0963b",
            "value": 26
          }
        },
        "07bd1ebe1adb4027aacfaefa740059fa": {
          "model_module": "@jupyter-widgets/controls",
          "model_name": "HTMLModel",
          "model_module_version": "1.5.0",
          "state": {
            "_dom_classes": [],
            "_model_module": "@jupyter-widgets/controls",
            "_model_module_version": "1.5.0",
            "_model_name": "HTMLModel",
            "_view_count": null,
            "_view_module": "@jupyter-widgets/controls",
            "_view_module_version": "1.5.0",
            "_view_name": "HTMLView",
            "description": "",
            "description_tooltip": null,
            "layout": "IPY_MODEL_52c483d942914b5e9c5a2e5df0fefb45",
            "placeholder": "​",
            "style": "IPY_MODEL_17b5bf6e9bc64be29247678ef9d390c9",
            "value": " 26.0/26.0 [00:00&lt;00:00, 1.26kB/s]"
          }
        },
        "3e434771eac24831be789a32f2ca3ade": {
          "model_module": "@jupyter-widgets/base",
          "model_name": "LayoutModel",
          "model_module_version": "1.2.0",
          "state": {
            "_model_module": "@jupyter-widgets/base",
            "_model_module_version": "1.2.0",
            "_model_name": "LayoutModel",
            "_view_count": null,
            "_view_module": "@jupyter-widgets/base",
            "_view_module_version": "1.2.0",
            "_view_name": "LayoutView",
            "align_content": null,
            "align_items": null,
            "align_self": null,
            "border": null,
            "bottom": null,
            "display": null,
            "flex": null,
            "flex_flow": null,
            "grid_area": null,
            "grid_auto_columns": null,
            "grid_auto_flow": null,
            "grid_auto_rows": null,
            "grid_column": null,
            "grid_gap": null,
            "grid_row": null,
            "grid_template_areas": null,
            "grid_template_columns": null,
            "grid_template_rows": null,
            "height": null,
            "justify_content": null,
            "justify_items": null,
            "left": null,
            "margin": null,
            "max_height": null,
            "max_width": null,
            "min_height": null,
            "min_width": null,
            "object_fit": null,
            "object_position": null,
            "order": null,
            "overflow": null,
            "overflow_x": null,
            "overflow_y": null,
            "padding": null,
            "right": null,
            "top": null,
            "visibility": null,
            "width": null
          }
        },
        "bd1173049fef45d28c1446ef7b010849": {
          "model_module": "@jupyter-widgets/base",
          "model_name": "LayoutModel",
          "model_module_version": "1.2.0",
          "state": {
            "_model_module": "@jupyter-widgets/base",
            "_model_module_version": "1.2.0",
            "_model_name": "LayoutModel",
            "_view_count": null,
            "_view_module": "@jupyter-widgets/base",
            "_view_module_version": "1.2.0",
            "_view_name": "LayoutView",
            "align_content": null,
            "align_items": null,
            "align_self": null,
            "border": null,
            "bottom": null,
            "display": null,
            "flex": null,
            "flex_flow": null,
            "grid_area": null,
            "grid_auto_columns": null,
            "grid_auto_flow": null,
            "grid_auto_rows": null,
            "grid_column": null,
            "grid_gap": null,
            "grid_row": null,
            "grid_template_areas": null,
            "grid_template_columns": null,
            "grid_template_rows": null,
            "height": null,
            "justify_content": null,
            "justify_items": null,
            "left": null,
            "margin": null,
            "max_height": null,
            "max_width": null,
            "min_height": null,
            "min_width": null,
            "object_fit": null,
            "object_position": null,
            "order": null,
            "overflow": null,
            "overflow_x": null,
            "overflow_y": null,
            "padding": null,
            "right": null,
            "top": null,
            "visibility": null,
            "width": null
          }
        },
        "a99fd0aed5634471a383e51ccd847375": {
          "model_module": "@jupyter-widgets/controls",
          "model_name": "DescriptionStyleModel",
          "model_module_version": "1.5.0",
          "state": {
            "_model_module": "@jupyter-widgets/controls",
            "_model_module_version": "1.5.0",
            "_model_name": "DescriptionStyleModel",
            "_view_count": null,
            "_view_module": "@jupyter-widgets/base",
            "_view_module_version": "1.2.0",
            "_view_name": "StyleView",
            "description_width": ""
          }
        },
        "b58badfc1b3d407fa5d6b7c4cc7b5f1f": {
          "model_module": "@jupyter-widgets/base",
          "model_name": "LayoutModel",
          "model_module_version": "1.2.0",
          "state": {
            "_model_module": "@jupyter-widgets/base",
            "_model_module_version": "1.2.0",
            "_model_name": "LayoutModel",
            "_view_count": null,
            "_view_module": "@jupyter-widgets/base",
            "_view_module_version": "1.2.0",
            "_view_name": "LayoutView",
            "align_content": null,
            "align_items": null,
            "align_self": null,
            "border": null,
            "bottom": null,
            "display": null,
            "flex": null,
            "flex_flow": null,
            "grid_area": null,
            "grid_auto_columns": null,
            "grid_auto_flow": null,
            "grid_auto_rows": null,
            "grid_column": null,
            "grid_gap": null,
            "grid_row": null,
            "grid_template_areas": null,
            "grid_template_columns": null,
            "grid_template_rows": null,
            "height": null,
            "justify_content": null,
            "justify_items": null,
            "left": null,
            "margin": null,
            "max_height": null,
            "max_width": null,
            "min_height": null,
            "min_width": null,
            "object_fit": null,
            "object_position": null,
            "order": null,
            "overflow": null,
            "overflow_x": null,
            "overflow_y": null,
            "padding": null,
            "right": null,
            "top": null,
            "visibility": null,
            "width": null
          }
        },
        "91756cdeb8264060a785a1b103d0963b": {
          "model_module": "@jupyter-widgets/controls",
          "model_name": "ProgressStyleModel",
          "model_module_version": "1.5.0",
          "state": {
            "_model_module": "@jupyter-widgets/controls",
            "_model_module_version": "1.5.0",
            "_model_name": "ProgressStyleModel",
            "_view_count": null,
            "_view_module": "@jupyter-widgets/base",
            "_view_module_version": "1.2.0",
            "_view_name": "StyleView",
            "bar_color": null,
            "description_width": ""
          }
        },
        "52c483d942914b5e9c5a2e5df0fefb45": {
          "model_module": "@jupyter-widgets/base",
          "model_name": "LayoutModel",
          "model_module_version": "1.2.0",
          "state": {
            "_model_module": "@jupyter-widgets/base",
            "_model_module_version": "1.2.0",
            "_model_name": "LayoutModel",
            "_view_count": null,
            "_view_module": "@jupyter-widgets/base",
            "_view_module_version": "1.2.0",
            "_view_name": "LayoutView",
            "align_content": null,
            "align_items": null,
            "align_self": null,
            "border": null,
            "bottom": null,
            "display": null,
            "flex": null,
            "flex_flow": null,
            "grid_area": null,
            "grid_auto_columns": null,
            "grid_auto_flow": null,
            "grid_auto_rows": null,
            "grid_column": null,
            "grid_gap": null,
            "grid_row": null,
            "grid_template_areas": null,
            "grid_template_columns": null,
            "grid_template_rows": null,
            "height": null,
            "justify_content": null,
            "justify_items": null,
            "left": null,
            "margin": null,
            "max_height": null,
            "max_width": null,
            "min_height": null,
            "min_width": null,
            "object_fit": null,
            "object_position": null,
            "order": null,
            "overflow": null,
            "overflow_x": null,
            "overflow_y": null,
            "padding": null,
            "right": null,
            "top": null,
            "visibility": null,
            "width": null
          }
        },
        "17b5bf6e9bc64be29247678ef9d390c9": {
          "model_module": "@jupyter-widgets/controls",
          "model_name": "DescriptionStyleModel",
          "model_module_version": "1.5.0",
          "state": {
            "_model_module": "@jupyter-widgets/controls",
            "_model_module_version": "1.5.0",
            "_model_name": "DescriptionStyleModel",
            "_view_count": null,
            "_view_module": "@jupyter-widgets/base",
            "_view_module_version": "1.2.0",
            "_view_name": "StyleView",
            "description_width": ""
          }
        },
        "65f55076b7f7417eb6c95b3590035d18": {
          "model_module": "@jupyter-widgets/controls",
          "model_name": "HBoxModel",
          "model_module_version": "1.5.0",
          "state": {
            "_dom_classes": [],
            "_model_module": "@jupyter-widgets/controls",
            "_model_module_version": "1.5.0",
            "_model_name": "HBoxModel",
            "_view_count": null,
            "_view_module": "@jupyter-widgets/controls",
            "_view_module_version": "1.5.0",
            "_view_name": "HBoxView",
            "box_style": "",
            "children": [
              "IPY_MODEL_0dd72e0474b447a5897f852df127650a",
              "IPY_MODEL_29796049c27d477b9783c1a9bed76844",
              "IPY_MODEL_292d5df1ee6040ff81a65e0f90533eee"
            ],
            "layout": "IPY_MODEL_40d533dc2978448db89116ce2938d1f9"
          }
        },
        "0dd72e0474b447a5897f852df127650a": {
          "model_module": "@jupyter-widgets/controls",
          "model_name": "HTMLModel",
          "model_module_version": "1.5.0",
          "state": {
            "_dom_classes": [],
            "_model_module": "@jupyter-widgets/controls",
            "_model_module_version": "1.5.0",
            "_model_name": "HTMLModel",
            "_view_count": null,
            "_view_module": "@jupyter-widgets/controls",
            "_view_module_version": "1.5.0",
            "_view_name": "HTMLView",
            "description": "",
            "description_tooltip": null,
            "layout": "IPY_MODEL_8bfb756d6771402e8bef9fcf53b7bfed",
            "placeholder": "​",
            "style": "IPY_MODEL_bcdaa96e99d34332acf9023fe49aceac",
            "value": "vocab.json: 100%"
          }
        },
        "29796049c27d477b9783c1a9bed76844": {
          "model_module": "@jupyter-widgets/controls",
          "model_name": "FloatProgressModel",
          "model_module_version": "1.5.0",
          "state": {
            "_dom_classes": [],
            "_model_module": "@jupyter-widgets/controls",
            "_model_module_version": "1.5.0",
            "_model_name": "FloatProgressModel",
            "_view_count": null,
            "_view_module": "@jupyter-widgets/controls",
            "_view_module_version": "1.5.0",
            "_view_name": "ProgressView",
            "bar_style": "success",
            "description": "",
            "description_tooltip": null,
            "layout": "IPY_MODEL_50ff1904e76a489e9a28f06eac45a338",
            "max": 898822,
            "min": 0,
            "orientation": "horizontal",
            "style": "IPY_MODEL_85a3a6c9cfc840b89d1684f4ca467eb4",
            "value": 898822
          }
        },
        "292d5df1ee6040ff81a65e0f90533eee": {
          "model_module": "@jupyter-widgets/controls",
          "model_name": "HTMLModel",
          "model_module_version": "1.5.0",
          "state": {
            "_dom_classes": [],
            "_model_module": "@jupyter-widgets/controls",
            "_model_module_version": "1.5.0",
            "_model_name": "HTMLModel",
            "_view_count": null,
            "_view_module": "@jupyter-widgets/controls",
            "_view_module_version": "1.5.0",
            "_view_name": "HTMLView",
            "description": "",
            "description_tooltip": null,
            "layout": "IPY_MODEL_28b7a2edffba46929b36b84e5c10a35d",
            "placeholder": "​",
            "style": "IPY_MODEL_446ca48f13d748248591eb199a02aec0",
            "value": " 899k/899k [00:00&lt;00:00, 13.8MB/s]"
          }
        },
        "40d533dc2978448db89116ce2938d1f9": {
          "model_module": "@jupyter-widgets/base",
          "model_name": "LayoutModel",
          "model_module_version": "1.2.0",
          "state": {
            "_model_module": "@jupyter-widgets/base",
            "_model_module_version": "1.2.0",
            "_model_name": "LayoutModel",
            "_view_count": null,
            "_view_module": "@jupyter-widgets/base",
            "_view_module_version": "1.2.0",
            "_view_name": "LayoutView",
            "align_content": null,
            "align_items": null,
            "align_self": null,
            "border": null,
            "bottom": null,
            "display": null,
            "flex": null,
            "flex_flow": null,
            "grid_area": null,
            "grid_auto_columns": null,
            "grid_auto_flow": null,
            "grid_auto_rows": null,
            "grid_column": null,
            "grid_gap": null,
            "grid_row": null,
            "grid_template_areas": null,
            "grid_template_columns": null,
            "grid_template_rows": null,
            "height": null,
            "justify_content": null,
            "justify_items": null,
            "left": null,
            "margin": null,
            "max_height": null,
            "max_width": null,
            "min_height": null,
            "min_width": null,
            "object_fit": null,
            "object_position": null,
            "order": null,
            "overflow": null,
            "overflow_x": null,
            "overflow_y": null,
            "padding": null,
            "right": null,
            "top": null,
            "visibility": null,
            "width": null
          }
        },
        "8bfb756d6771402e8bef9fcf53b7bfed": {
          "model_module": "@jupyter-widgets/base",
          "model_name": "LayoutModel",
          "model_module_version": "1.2.0",
          "state": {
            "_model_module": "@jupyter-widgets/base",
            "_model_module_version": "1.2.0",
            "_model_name": "LayoutModel",
            "_view_count": null,
            "_view_module": "@jupyter-widgets/base",
            "_view_module_version": "1.2.0",
            "_view_name": "LayoutView",
            "align_content": null,
            "align_items": null,
            "align_self": null,
            "border": null,
            "bottom": null,
            "display": null,
            "flex": null,
            "flex_flow": null,
            "grid_area": null,
            "grid_auto_columns": null,
            "grid_auto_flow": null,
            "grid_auto_rows": null,
            "grid_column": null,
            "grid_gap": null,
            "grid_row": null,
            "grid_template_areas": null,
            "grid_template_columns": null,
            "grid_template_rows": null,
            "height": null,
            "justify_content": null,
            "justify_items": null,
            "left": null,
            "margin": null,
            "max_height": null,
            "max_width": null,
            "min_height": null,
            "min_width": null,
            "object_fit": null,
            "object_position": null,
            "order": null,
            "overflow": null,
            "overflow_x": null,
            "overflow_y": null,
            "padding": null,
            "right": null,
            "top": null,
            "visibility": null,
            "width": null
          }
        },
        "bcdaa96e99d34332acf9023fe49aceac": {
          "model_module": "@jupyter-widgets/controls",
          "model_name": "DescriptionStyleModel",
          "model_module_version": "1.5.0",
          "state": {
            "_model_module": "@jupyter-widgets/controls",
            "_model_module_version": "1.5.0",
            "_model_name": "DescriptionStyleModel",
            "_view_count": null,
            "_view_module": "@jupyter-widgets/base",
            "_view_module_version": "1.2.0",
            "_view_name": "StyleView",
            "description_width": ""
          }
        },
        "50ff1904e76a489e9a28f06eac45a338": {
          "model_module": "@jupyter-widgets/base",
          "model_name": "LayoutModel",
          "model_module_version": "1.2.0",
          "state": {
            "_model_module": "@jupyter-widgets/base",
            "_model_module_version": "1.2.0",
            "_model_name": "LayoutModel",
            "_view_count": null,
            "_view_module": "@jupyter-widgets/base",
            "_view_module_version": "1.2.0",
            "_view_name": "LayoutView",
            "align_content": null,
            "align_items": null,
            "align_self": null,
            "border": null,
            "bottom": null,
            "display": null,
            "flex": null,
            "flex_flow": null,
            "grid_area": null,
            "grid_auto_columns": null,
            "grid_auto_flow": null,
            "grid_auto_rows": null,
            "grid_column": null,
            "grid_gap": null,
            "grid_row": null,
            "grid_template_areas": null,
            "grid_template_columns": null,
            "grid_template_rows": null,
            "height": null,
            "justify_content": null,
            "justify_items": null,
            "left": null,
            "margin": null,
            "max_height": null,
            "max_width": null,
            "min_height": null,
            "min_width": null,
            "object_fit": null,
            "object_position": null,
            "order": null,
            "overflow": null,
            "overflow_x": null,
            "overflow_y": null,
            "padding": null,
            "right": null,
            "top": null,
            "visibility": null,
            "width": null
          }
        },
        "85a3a6c9cfc840b89d1684f4ca467eb4": {
          "model_module": "@jupyter-widgets/controls",
          "model_name": "ProgressStyleModel",
          "model_module_version": "1.5.0",
          "state": {
            "_model_module": "@jupyter-widgets/controls",
            "_model_module_version": "1.5.0",
            "_model_name": "ProgressStyleModel",
            "_view_count": null,
            "_view_module": "@jupyter-widgets/base",
            "_view_module_version": "1.2.0",
            "_view_name": "StyleView",
            "bar_color": null,
            "description_width": ""
          }
        },
        "28b7a2edffba46929b36b84e5c10a35d": {
          "model_module": "@jupyter-widgets/base",
          "model_name": "LayoutModel",
          "model_module_version": "1.2.0",
          "state": {
            "_model_module": "@jupyter-widgets/base",
            "_model_module_version": "1.2.0",
            "_model_name": "LayoutModel",
            "_view_count": null,
            "_view_module": "@jupyter-widgets/base",
            "_view_module_version": "1.2.0",
            "_view_name": "LayoutView",
            "align_content": null,
            "align_items": null,
            "align_self": null,
            "border": null,
            "bottom": null,
            "display": null,
            "flex": null,
            "flex_flow": null,
            "grid_area": null,
            "grid_auto_columns": null,
            "grid_auto_flow": null,
            "grid_auto_rows": null,
            "grid_column": null,
            "grid_gap": null,
            "grid_row": null,
            "grid_template_areas": null,
            "grid_template_columns": null,
            "grid_template_rows": null,
            "height": null,
            "justify_content": null,
            "justify_items": null,
            "left": null,
            "margin": null,
            "max_height": null,
            "max_width": null,
            "min_height": null,
            "min_width": null,
            "object_fit": null,
            "object_position": null,
            "order": null,
            "overflow": null,
            "overflow_x": null,
            "overflow_y": null,
            "padding": null,
            "right": null,
            "top": null,
            "visibility": null,
            "width": null
          }
        },
        "446ca48f13d748248591eb199a02aec0": {
          "model_module": "@jupyter-widgets/controls",
          "model_name": "DescriptionStyleModel",
          "model_module_version": "1.5.0",
          "state": {
            "_model_module": "@jupyter-widgets/controls",
            "_model_module_version": "1.5.0",
            "_model_name": "DescriptionStyleModel",
            "_view_count": null,
            "_view_module": "@jupyter-widgets/base",
            "_view_module_version": "1.2.0",
            "_view_name": "StyleView",
            "description_width": ""
          }
        },
        "49f10919a715451da4a98d796a981dd9": {
          "model_module": "@jupyter-widgets/controls",
          "model_name": "HBoxModel",
          "model_module_version": "1.5.0",
          "state": {
            "_dom_classes": [],
            "_model_module": "@jupyter-widgets/controls",
            "_model_module_version": "1.5.0",
            "_model_name": "HBoxModel",
            "_view_count": null,
            "_view_module": "@jupyter-widgets/controls",
            "_view_module_version": "1.5.0",
            "_view_name": "HBoxView",
            "box_style": "",
            "children": [
              "IPY_MODEL_2a0be6f7252a477dabbc5947329bc457",
              "IPY_MODEL_d7a12154345a45e79913351332dba44a",
              "IPY_MODEL_3c5856fd75ce4a71a598c695183aa65f"
            ],
            "layout": "IPY_MODEL_ecf17f4f517e47caabcf3f5a94793bd4"
          }
        },
        "2a0be6f7252a477dabbc5947329bc457": {
          "model_module": "@jupyter-widgets/controls",
          "model_name": "HTMLModel",
          "model_module_version": "1.5.0",
          "state": {
            "_dom_classes": [],
            "_model_module": "@jupyter-widgets/controls",
            "_model_module_version": "1.5.0",
            "_model_name": "HTMLModel",
            "_view_count": null,
            "_view_module": "@jupyter-widgets/controls",
            "_view_module_version": "1.5.0",
            "_view_name": "HTMLView",
            "description": "",
            "description_tooltip": null,
            "layout": "IPY_MODEL_37a9d8686a1c425e8271629c43ea0ac6",
            "placeholder": "​",
            "style": "IPY_MODEL_a9ed8391192e4df6b9bdfa857f4d0c1a",
            "value": "merges.txt: 100%"
          }
        },
        "d7a12154345a45e79913351332dba44a": {
          "model_module": "@jupyter-widgets/controls",
          "model_name": "FloatProgressModel",
          "model_module_version": "1.5.0",
          "state": {
            "_dom_classes": [],
            "_model_module": "@jupyter-widgets/controls",
            "_model_module_version": "1.5.0",
            "_model_name": "FloatProgressModel",
            "_view_count": null,
            "_view_module": "@jupyter-widgets/controls",
            "_view_module_version": "1.5.0",
            "_view_name": "ProgressView",
            "bar_style": "success",
            "description": "",
            "description_tooltip": null,
            "layout": "IPY_MODEL_5d03664b2dc1450687085ad28ace76d6",
            "max": 456318,
            "min": 0,
            "orientation": "horizontal",
            "style": "IPY_MODEL_d9dfa3c2a5384cc3ba0d474bd7a853e3",
            "value": 456318
          }
        },
        "3c5856fd75ce4a71a598c695183aa65f": {
          "model_module": "@jupyter-widgets/controls",
          "model_name": "HTMLModel",
          "model_module_version": "1.5.0",
          "state": {
            "_dom_classes": [],
            "_model_module": "@jupyter-widgets/controls",
            "_model_module_version": "1.5.0",
            "_model_name": "HTMLModel",
            "_view_count": null,
            "_view_module": "@jupyter-widgets/controls",
            "_view_module_version": "1.5.0",
            "_view_name": "HTMLView",
            "description": "",
            "description_tooltip": null,
            "layout": "IPY_MODEL_270470552c244a6aad3b4841c8f093b9",
            "placeholder": "​",
            "style": "IPY_MODEL_92f40e881d5649b98cb6548ecab6ecaf",
            "value": " 456k/456k [00:00&lt;00:00, 15.9MB/s]"
          }
        },
        "ecf17f4f517e47caabcf3f5a94793bd4": {
          "model_module": "@jupyter-widgets/base",
          "model_name": "LayoutModel",
          "model_module_version": "1.2.0",
          "state": {
            "_model_module": "@jupyter-widgets/base",
            "_model_module_version": "1.2.0",
            "_model_name": "LayoutModel",
            "_view_count": null,
            "_view_module": "@jupyter-widgets/base",
            "_view_module_version": "1.2.0",
            "_view_name": "LayoutView",
            "align_content": null,
            "align_items": null,
            "align_self": null,
            "border": null,
            "bottom": null,
            "display": null,
            "flex": null,
            "flex_flow": null,
            "grid_area": null,
            "grid_auto_columns": null,
            "grid_auto_flow": null,
            "grid_auto_rows": null,
            "grid_column": null,
            "grid_gap": null,
            "grid_row": null,
            "grid_template_areas": null,
            "grid_template_columns": null,
            "grid_template_rows": null,
            "height": null,
            "justify_content": null,
            "justify_items": null,
            "left": null,
            "margin": null,
            "max_height": null,
            "max_width": null,
            "min_height": null,
            "min_width": null,
            "object_fit": null,
            "object_position": null,
            "order": null,
            "overflow": null,
            "overflow_x": null,
            "overflow_y": null,
            "padding": null,
            "right": null,
            "top": null,
            "visibility": null,
            "width": null
          }
        },
        "37a9d8686a1c425e8271629c43ea0ac6": {
          "model_module": "@jupyter-widgets/base",
          "model_name": "LayoutModel",
          "model_module_version": "1.2.0",
          "state": {
            "_model_module": "@jupyter-widgets/base",
            "_model_module_version": "1.2.0",
            "_model_name": "LayoutModel",
            "_view_count": null,
            "_view_module": "@jupyter-widgets/base",
            "_view_module_version": "1.2.0",
            "_view_name": "LayoutView",
            "align_content": null,
            "align_items": null,
            "align_self": null,
            "border": null,
            "bottom": null,
            "display": null,
            "flex": null,
            "flex_flow": null,
            "grid_area": null,
            "grid_auto_columns": null,
            "grid_auto_flow": null,
            "grid_auto_rows": null,
            "grid_column": null,
            "grid_gap": null,
            "grid_row": null,
            "grid_template_areas": null,
            "grid_template_columns": null,
            "grid_template_rows": null,
            "height": null,
            "justify_content": null,
            "justify_items": null,
            "left": null,
            "margin": null,
            "max_height": null,
            "max_width": null,
            "min_height": null,
            "min_width": null,
            "object_fit": null,
            "object_position": null,
            "order": null,
            "overflow": null,
            "overflow_x": null,
            "overflow_y": null,
            "padding": null,
            "right": null,
            "top": null,
            "visibility": null,
            "width": null
          }
        },
        "a9ed8391192e4df6b9bdfa857f4d0c1a": {
          "model_module": "@jupyter-widgets/controls",
          "model_name": "DescriptionStyleModel",
          "model_module_version": "1.5.0",
          "state": {
            "_model_module": "@jupyter-widgets/controls",
            "_model_module_version": "1.5.0",
            "_model_name": "DescriptionStyleModel",
            "_view_count": null,
            "_view_module": "@jupyter-widgets/base",
            "_view_module_version": "1.2.0",
            "_view_name": "StyleView",
            "description_width": ""
          }
        },
        "5d03664b2dc1450687085ad28ace76d6": {
          "model_module": "@jupyter-widgets/base",
          "model_name": "LayoutModel",
          "model_module_version": "1.2.0",
          "state": {
            "_model_module": "@jupyter-widgets/base",
            "_model_module_version": "1.2.0",
            "_model_name": "LayoutModel",
            "_view_count": null,
            "_view_module": "@jupyter-widgets/base",
            "_view_module_version": "1.2.0",
            "_view_name": "LayoutView",
            "align_content": null,
            "align_items": null,
            "align_self": null,
            "border": null,
            "bottom": null,
            "display": null,
            "flex": null,
            "flex_flow": null,
            "grid_area": null,
            "grid_auto_columns": null,
            "grid_auto_flow": null,
            "grid_auto_rows": null,
            "grid_column": null,
            "grid_gap": null,
            "grid_row": null,
            "grid_template_areas": null,
            "grid_template_columns": null,
            "grid_template_rows": null,
            "height": null,
            "justify_content": null,
            "justify_items": null,
            "left": null,
            "margin": null,
            "max_height": null,
            "max_width": null,
            "min_height": null,
            "min_width": null,
            "object_fit": null,
            "object_position": null,
            "order": null,
            "overflow": null,
            "overflow_x": null,
            "overflow_y": null,
            "padding": null,
            "right": null,
            "top": null,
            "visibility": null,
            "width": null
          }
        },
        "d9dfa3c2a5384cc3ba0d474bd7a853e3": {
          "model_module": "@jupyter-widgets/controls",
          "model_name": "ProgressStyleModel",
          "model_module_version": "1.5.0",
          "state": {
            "_model_module": "@jupyter-widgets/controls",
            "_model_module_version": "1.5.0",
            "_model_name": "ProgressStyleModel",
            "_view_count": null,
            "_view_module": "@jupyter-widgets/base",
            "_view_module_version": "1.2.0",
            "_view_name": "StyleView",
            "bar_color": null,
            "description_width": ""
          }
        },
        "270470552c244a6aad3b4841c8f093b9": {
          "model_module": "@jupyter-widgets/base",
          "model_name": "LayoutModel",
          "model_module_version": "1.2.0",
          "state": {
            "_model_module": "@jupyter-widgets/base",
            "_model_module_version": "1.2.0",
            "_model_name": "LayoutModel",
            "_view_count": null,
            "_view_module": "@jupyter-widgets/base",
            "_view_module_version": "1.2.0",
            "_view_name": "LayoutView",
            "align_content": null,
            "align_items": null,
            "align_self": null,
            "border": null,
            "bottom": null,
            "display": null,
            "flex": null,
            "flex_flow": null,
            "grid_area": null,
            "grid_auto_columns": null,
            "grid_auto_flow": null,
            "grid_auto_rows": null,
            "grid_column": null,
            "grid_gap": null,
            "grid_row": null,
            "grid_template_areas": null,
            "grid_template_columns": null,
            "grid_template_rows": null,
            "height": null,
            "justify_content": null,
            "justify_items": null,
            "left": null,
            "margin": null,
            "max_height": null,
            "max_width": null,
            "min_height": null,
            "min_width": null,
            "object_fit": null,
            "object_position": null,
            "order": null,
            "overflow": null,
            "overflow_x": null,
            "overflow_y": null,
            "padding": null,
            "right": null,
            "top": null,
            "visibility": null,
            "width": null
          }
        },
        "92f40e881d5649b98cb6548ecab6ecaf": {
          "model_module": "@jupyter-widgets/controls",
          "model_name": "DescriptionStyleModel",
          "model_module_version": "1.5.0",
          "state": {
            "_model_module": "@jupyter-widgets/controls",
            "_model_module_version": "1.5.0",
            "_model_name": "DescriptionStyleModel",
            "_view_count": null,
            "_view_module": "@jupyter-widgets/base",
            "_view_module_version": "1.2.0",
            "_view_name": "StyleView",
            "description_width": ""
          }
        }
      }
    }
  },
  "cells": [
    {
      "cell_type": "markdown",
      "metadata": {
        "id": "view-in-github",
        "colab_type": "text"
      },
      "source": [
        "<a href=\"https://colab.research.google.com/github/Suganya12sg/Datascience-project/blob/main/Youtube_Transcription_NLP.ipynb\" target=\"_parent\"><img src=\"https://colab.research.google.com/assets/colab-badge.svg\" alt=\"Open In Colab\"/></a>"
      ]
    },
    {
      "cell_type": "markdown",
      "source": [
        "#Transcription using Hugging face transformer and youtube transcript API"
      ],
      "metadata": {
        "id": "vVPg4dR4FKOT"
      }
    },
    {
      "cell_type": "code",
      "execution_count": 1,
      "metadata": {
        "id": "721TUYJZEYJs"
      },
      "outputs": [],
      "source": [
        "!pip install -q transformers"
      ]
    },
    {
      "cell_type": "code",
      "source": [
        "!pip install -q youtube_transcript_api"
      ],
      "metadata": {
        "id": "n9EMhIJLE-L9"
      },
      "execution_count": 2,
      "outputs": []
    },
    {
      "cell_type": "code",
      "source": [
        "from transformers import pipeline\n",
        "from youtube_transcript_api import YouTubeTranscriptApi"
      ],
      "metadata": {
        "id": "urvwt50TFEiw"
      },
      "execution_count": 3,
      "outputs": []
    },
    {
      "cell_type": "markdown",
      "source": [
        "#Source data from youtube video \"pros and cons of social media\""
      ],
      "metadata": {
        "id": "HKv3X1usFaHE"
      }
    },
    {
      "cell_type": "code",
      "source": [
        "youtube_video = \"https://www.youtube.com/watch?v=p_5V-k0GH4U\""
      ],
      "metadata": {
        "id": "x9xrjLwtFUT9"
      },
      "execution_count": 4,
      "outputs": []
    },
    {
      "cell_type": "code",
      "source": [
        "video_id = youtube_video.split('=')[1]\n",
        "video_id"
      ],
      "metadata": {
        "colab": {
          "base_uri": "https://localhost:8080/",
          "height": 36
        },
        "id": "QTnqdK7NFiw6",
        "outputId": "7ac4a5a9-7ebb-44fb-839e-d255dfbcb494"
      },
      "execution_count": 5,
      "outputs": [
        {
          "output_type": "execute_result",
          "data": {
            "text/plain": [
              "'p_5V-k0GH4U'"
            ],
            "application/vnd.google.colaboratory.intrinsic+json": {
              "type": "string"
            }
          },
          "metadata": {},
          "execution_count": 5
        }
      ]
    },
    {
      "cell_type": "code",
      "source": [
        "from IPython.display import YouTubeVideo\n",
        "YouTubeVideo(video_id)"
      ],
      "metadata": {
        "colab": {
          "base_uri": "https://localhost:8080/",
          "height": 322
        },
        "id": "HZx5zgTLFquJ",
        "outputId": "a200acb5-d1d2-4539-ffcc-60e9309e9e49"
      },
      "execution_count": 6,
      "outputs": [
        {
          "output_type": "execute_result",
          "data": {
            "text/plain": [
              "<IPython.lib.display.YouTubeVideo at 0x7ba9e1c02ec0>"
            ],
            "text/html": [
              "\n",
              "        <iframe\n",
              "            width=\"400\"\n",
              "            height=\"300\"\n",
              "            src=\"https://www.youtube.com/embed/p_5V-k0GH4U\"\n",
              "            frameborder=\"0\"\n",
              "            allowfullscreen\n",
              "            \n",
              "        ></iframe>\n",
              "        "
            ],
            "image/jpeg": "[encoded data removed]"
          },
          "metadata": {},
          "execution_count": 6
        }
      ]
    },
    {
      "cell_type": "code",
      "source": [
        "transcript = YouTubeTranscriptApi.get_transcript(video_id)"
      ],
      "metadata": {
        "id": "81jfEezMFxhp"
      },
      "execution_count": 7,
      "outputs": []
    },
    {
      "cell_type": "code",
      "source": [
        "transcript"
      ],
      "metadata": {
        "colab": {
          "base_uri": "https://localhost:8080/"
        },
        "id": "qRB4izZHFzOQ",
        "outputId": "f713ce61-d3bc-4029-97e9-dd77bcbcc6ba"
      },
      "execution_count": 8,
      "outputs": [
        {
          "output_type": "execute_result",
          "data": {
            "text/plain": [
              "[{'text': 'hello and welcome back to our Channel',\n",
              "  'start': 0.359,\n",
              "  'duration': 4.141},\n",
              " {'text': 'where we discuss topics that matter to',\n",
              "  'start': 2.399,\n",
              "  'duration': 4.86},\n",
              " {'text': 'you today we will be discussing a topic',\n",
              "  'start': 4.5,\n",
              "  'duration': 4.26},\n",
              " {'text': 'that has been gaining a lot of attention',\n",
              "  'start': 7.259,\n",
              "  'duration': 4.141},\n",
              " {'text': 'in recent years mental health and social',\n",
              "  'start': 8.76,\n",
              "  'duration': 5.879},\n",
              " {'text': 'media the pros and cons as social media',\n",
              "  'start': 11.4,\n",
              "  'duration': 5.219},\n",
              " {'text': 'has become an integral part of our daily',\n",
              "  'start': 14.639,\n",
              "  'duration': 4.56},\n",
              " {'text': 'lives it has both positive and negative',\n",
              "  'start': 16.619,\n",
              "  'duration': 4.981},\n",
              " {'text': 'effects on our mental health in this',\n",
              "  'start': 19.199,\n",
              "  'duration': 4.561},\n",
              " {'text': 'video we will discuss the pros and cons',\n",
              "  'start': 21.6,\n",
              "  'duration': 4.2},\n",
              " {'text': 'of social media on mental health and',\n",
              "  'start': 23.76,\n",
              "  'duration': 4.08},\n",
              " {'text': 'ways to use social media in a healthy',\n",
              "  'start': 25.8,\n",
              "  'duration': 4.319},\n",
              " {'text': \"way let's start with the pros of social\",\n",
              "  'start': 27.84,\n",
              "  'duration': 4.019},\n",
              " {'text': 'media on Mental Health', 'start': 30.119, 'duration': 4.021},\n",
              " {'text': 'social media has brought people closer',\n",
              "  'start': 31.859,\n",
              "  'duration': 3.781},\n",
              " {'text': 'and made it easier to connect with',\n",
              "  'start': 34.14,\n",
              "  'duration': 3.78},\n",
              " {'text': 'people all over the world this is',\n",
              "  'start': 35.64,\n",
              "  'duration': 4.2},\n",
              " {'text': 'particularly beneficial for people who',\n",
              "  'start': 37.92,\n",
              "  'duration': 4.68},\n",
              " {'text': 'feel isolated and lonely social media',\n",
              "  'start': 39.84,\n",
              "  'duration': 4.68},\n",
              " {'text': 'has created online communities and',\n",
              "  'start': 42.6,\n",
              "  'duration': 3.959},\n",
              " {'text': 'support groups providing people with a',\n",
              "  'start': 44.52,\n",
              "  'duration': 3.78},\n",
              " {'text': 'sense of belonging and support that they',\n",
              "  'start': 46.559,\n",
              "  'duration': 3.901},\n",
              " {'text': 'might not have in their offline lives',\n",
              "  'start': 48.3,\n",
              "  'duration': 4.56},\n",
              " {'text': 'social media has also given people a',\n",
              "  'start': 50.46,\n",
              "  'duration': 4.5},\n",
              " {'text': 'platform to share their experiences and',\n",
              "  'start': 52.86,\n",
              "  'duration': 3.539},\n",
              " {'text': 'raise awareness about mental health',\n",
              "  'start': 54.96,\n",
              "  'duration': 2.46},\n",
              " {'text': 'issues', 'start': 56.399, 'duration': 3.121},\n",
              " {'text': 'people are more open to discussing their',\n",
              "  'start': 57.42,\n",
              "  'duration': 4.08},\n",
              " {'text': 'struggles with mental health and social',\n",
              "  'start': 59.52,\n",
              "  'duration': 4.08},\n",
              " {'text': 'media has provided a safe space for',\n",
              "  'start': 61.5,\n",
              "  'duration': 4.5},\n",
              " {'text': 'these conversations it has helped reduce',\n",
              "  'start': 63.6,\n",
              "  'duration': 4.559},\n",
              " {'text': 'the stigma surrounding mental health and',\n",
              "  'start': 66.0,\n",
              "  'duration': 4.2},\n",
              " {'text': 'has encouraged people to seek help',\n",
              "  'start': 68.159,\n",
              "  'duration': 4.861},\n",
              " {'text': 'however social media also has its',\n",
              "  'start': 70.2,\n",
              "  'duration': 4.44},\n",
              " {'text': 'downsides when it comes to mental health',\n",
              "  'start': 73.02,\n",
              "  'duration': 4.02},\n",
              " {'text': 'one of the most significant negative',\n",
              "  'start': 74.64,\n",
              "  'duration': 4.86},\n",
              " {'text': 'impacts of social media is the impact it',\n",
              "  'start': 77.04,\n",
              "  'duration': 5.16},\n",
              " {'text': 'can have on self-esteem social media',\n",
              "  'start': 79.5,\n",
              "  'duration': 5.04},\n",
              " {'text': 'often portrays a curated and idealized',\n",
              "  'start': 82.2,\n",
              "  'duration': 4.14},\n",
              " {'text': 'version of Life which can lead to',\n",
              "  'start': 84.54,\n",
              "  'duration': 3.54},\n",
              " {'text': 'feelings of inadequacy and low', 'start': 86.34, 'duration': 4.26},\n",
              " {'text': 'self-esteem this can be particularly',\n",
              "  'start': 88.08,\n",
              "  'duration': 4.5},\n",
              " {'text': 'harmful to individuals who are already',\n",
              "  'start': 90.6,\n",
              "  'duration': 3.659},\n",
              " {'text': 'struggling with mental health issues',\n",
              "  'start': 92.58,\n",
              "  'duration': 4.499},\n",
              " {'text': 'another negative impact of social media',\n",
              "  'start': 94.259,\n",
              "  'duration': 5.101},\n",
              " {'text': 'is its potential to cause addiction',\n",
              "  'start': 97.079,\n",
              "  'duration': 4.441},\n",
              " {'text': 'social media can be a time-consuming',\n",
              "  'start': 99.36,\n",
              "  'duration': 4.259},\n",
              " {'text': 'activity an excessive use of social',\n",
              "  'start': 101.52,\n",
              "  'duration': 3.98},\n",
              " {'text': 'media can lead to procrastination',\n",
              "  'start': 103.619,\n",
              "  'duration': 4.32},\n",
              " {'text': 'decreased productivity and increased',\n",
              "  'start': 105.5,\n",
              "  'duration': 5.2},\n",
              " {'text': 'anxiety it can also lead to a fear of',\n",
              "  'start': 107.939,\n",
              "  'duration': 5.82},\n",
              " {'text': 'missing out fomo which can negatively',\n",
              "  'start': 110.7,\n",
              "  'duration': 5.459},\n",
              " {'text': 'impact mental health now that we have',\n",
              "  'start': 113.759,\n",
              "  'duration': 4.261},\n",
              " {'text': 'discussed the pros and cons of social',\n",
              "  'start': 116.159,\n",
              "  'duration': 4.201},\n",
              " {'text': \"media on Mental Health let's talk about\",\n",
              "  'start': 118.02,\n",
              "  'duration': 4.44},\n",
              " {'text': 'ways to use social media in a healthy',\n",
              "  'start': 120.36,\n",
              "  'duration': 2.82},\n",
              " {'text': 'way', 'start': 122.46, 'duration': 3.299},\n",
              " {'text': \"firstly it's essential to recognize that\",\n",
              "  'start': 123.18,\n",
              "  'duration': 4.56},\n",
              " {'text': 'social media is not a replacement for',\n",
              "  'start': 125.759,\n",
              "  'duration': 4.681},\n",
              " {'text': 'real-life connections while social media',\n",
              "  'start': 127.74,\n",
              "  'duration': 4.68},\n",
              " {'text': \"can provide a sense of community it's\",\n",
              "  'start': 130.44,\n",
              "  'duration': 3.78},\n",
              " {'text': 'important to have real-life connections',\n",
              "  'start': 132.42,\n",
              "  'duration': 3.539},\n",
              " {'text': 'and interactions with people', 'start': 134.22, 'duration': 4.26},\n",
              " {'text': \"secondly it's crucial to be mindful of\",\n",
              "  'start': 135.959,\n",
              "  'duration': 4.561},\n",
              " {'text': 'the content we consume on social media',\n",
              "  'start': 138.48,\n",
              "  'duration': 4.38},\n",
              " {'text': \"it's important to follow accounts that\",\n",
              "  'start': 140.52,\n",
              "  'duration': 4.439},\n",
              " {'text': 'Inspire and motivate us rather than',\n",
              "  'start': 142.86,\n",
              "  'duration': 4.44},\n",
              " {'text': \"those that make us feel inadequate it's\",\n",
              "  'start': 144.959,\n",
              "  'duration': 4.261},\n",
              " {'text': 'also important to limit our time on',\n",
              "  'start': 147.3,\n",
              "  'duration': 3.92},\n",
              " {'text': 'social media and take breaks when needed',\n",
              "  'start': 149.22,\n",
              "  'duration': 4.5},\n",
              " {'text': 'lastly if you find yourself struggling',\n",
              "  'start': 151.22,\n",
              "  'duration': 4.54},\n",
              " {'text': \"with mental health issues it's essential\",\n",
              "  'start': 153.72,\n",
              "  'duration': 4.44},\n",
              " {'text': 'to seek professional help while social',\n",
              "  'start': 155.76,\n",
              "  'duration': 4.199},\n",
              " {'text': 'media can provide a sense of community',\n",
              "  'start': 158.16,\n",
              "  'duration': 4.26},\n",
              " {'text': \"and support it's not a replacement for\",\n",
              "  'start': 159.959,\n",
              "  'duration': 5.28},\n",
              " {'text': 'professional help in conclusion social',\n",
              "  'start': 162.42,\n",
              "  'duration': 4.74},\n",
              " {'text': 'media has both positive and negative',\n",
              "  'start': 165.239,\n",
              "  'duration': 4.5},\n",
              " {'text': \"impacts on Mental Health it's essential\",\n",
              "  'start': 167.16,\n",
              "  'duration': 4.98},\n",
              " {'text': 'to use social media in a healthy way and',\n",
              "  'start': 169.739,\n",
              "  'duration': 5.041},\n",
              " {'text': 'be mindful of the content we consume if',\n",
              "  'start': 172.14,\n",
              "  'duration': 3.84},\n",
              " {'text': \"you're struggling with mental health\",\n",
              "  'start': 174.78,\n",
              "  'duration': 2.88},\n",
              " {'text': \"issues it's important to seek\", 'start': 175.98, 'duration': 4.08},\n",
              " {'text': 'professional help thank you for watching',\n",
              "  'start': 177.66,\n",
              "  'duration': 4.2},\n",
              " {'text': \"and don't forget to like And subscribe\",\n",
              "  'start': 180.06,\n",
              "  'duration': 3.84},\n",
              " {'text': 'for more videos on topics that matter to',\n",
              "  'start': 181.86,\n",
              "  'duration': 4.019},\n",
              " {'text': 'you if you have any thoughts or', 'start': 183.9, 'duration': 3.96},\n",
              " {'text': 'questions about this topic please share',\n",
              "  'start': 185.879,\n",
              "  'duration': 5.061},\n",
              " {'text': 'them in the comments below', 'start': 187.86, 'duration': 3.08}]"
            ]
          },
          "metadata": {},
          "execution_count": 8
        }
      ]
    },
    {
      "cell_type": "markdown",
      "source": [
        "# Extracting text from data"
      ],
      "metadata": {
        "id": "Y-Jja4QVF9gc"
      }
    },
    {
      "cell_type": "code",
      "source": [
        "text= \"\"\n",
        "for i in transcript:\n",
        "  text +=' '+ i['text']\n",
        "print (len(text))"
      ],
      "metadata": {
        "colab": {
          "base_uri": "https://localhost:8080/"
        },
        "id": "2lp4pbt8F8r5",
        "outputId": "9a913653-fbb2-4326-cc5d-a217b296ddf7"
      },
      "execution_count": 9,
      "outputs": [
        {
          "output_type": "stream",
          "name": "stdout",
          "text": [
            "3266\n"
          ]
        }
      ]
    },
    {
      "cell_type": "code",
      "source": [
        "str(text)"
      ],
      "metadata": {
        "colab": {
          "base_uri": "https://localhost:8080/",
          "height": 418
        },
        "id": "LJk6fzDuGg3U",
        "outputId": "079911b7-a98a-4c51-d588-d037872dcd51"
      },
      "execution_count": 10,
      "outputs": [
        {
          "output_type": "execute_result",
          "data": {
            "text/plain": [
              "\" hello and welcome back to our Channel where we discuss topics that matter to you today we will be discussing a topic that has been gaining a lot of attention in recent years mental health and social media the pros and cons as social media has become an integral part of our daily lives it has both positive and negative effects on our mental health in this video we will discuss the pros and cons of social media on mental health and ways to use social media in a healthy way let's start with the pros of social media on Mental Health social media has brought people closer and made it easier to connect with people all over the world this is particularly beneficial for people who feel isolated and lonely social media has created online communities and support groups providing people with a sense of belonging and support that they might not have in their offline lives social media has also given people a platform to share their experiences and raise awareness about mental health issues people are more open to discussing their struggles with mental health and social media has provided a safe space for these conversations it has helped reduce the stigma surrounding mental health and has encouraged people to seek help however social media also has its downsides when it comes to mental health one of the most significant negative impacts of social media is the impact it can have on self-esteem social media often portrays a curated and idealized version of Life which can lead to feelings of inadequacy and low self-esteem this can be particularly harmful to individuals who are already struggling with mental health issues another negative impact of social media is its potential to cause addiction social media can be a time-consuming activity an excessive use of social media can lead to procrastination decreased productivity and increased anxiety it can also lead to a fear of missing out fomo which can negatively impact mental health now that we have discussed the pros and cons of social media on Mental Health let's talk about ways to use social media in a healthy way firstly it's essential to recognize that social media is not a replacement for real-life connections while social media can provide a sense of community it's important to have real-life connections and interactions with people secondly it's crucial to be mindful of the content we consume on social media it's important to follow accounts that Inspire and motivate us rather than those that make us feel inadequate it's also important to limit our time on social media and take breaks when needed lastly if you find yourself struggling with mental health issues it's essential to seek professional help while social media can provide a sense of community and support it's not a replacement for professional help in conclusion social media has both positive and negative impacts on Mental Health it's essential to use social media in a healthy way and be mindful of the content we consume if you're struggling with mental health issues it's important to seek professional help thank you for watching and don't forget to like And subscribe for more videos on topics that matter to you if you have any thoughts or questions about this topic please share them in the comments below\""
            ],
            "application/vnd.google.colaboratory.intrinsic+json": {
              "type": "string"
            }
          },
          "metadata": {},
          "execution_count": 10
        }
      ]
    },
    {
      "cell_type": "code",
      "source": [
        "summarizer= pipeline('summarization')"
      ],
      "metadata": {
        "colab": {
          "base_uri": "https://localhost:8080/",
          "height": 371,
          "referenced_widgets": [
            "b5492524c1ee4f68baa7778c82126cab",
            "7e58f4b6874449a08d0e1473fa3d9939",
            "6c0f13610cc845ad843578b2d1f57c6a",
            "f18687ba118947748bcfbb27ed85046d",
            "e3027a9cd8df422c99c2d4fe5dcea0c9",
            "1eb22a0f44c14047b9665cf3f0a91008",
            "d1d68adf4d2644b8922ce60187c0b237",
            "9e20721013474f9f95227dec67197a02",
            "42b23a1d361846bba82f9006c5d18323",
            "832ca079b35a4e4e8c9961bc08ff3526",
            "c7ba7bc0b05f497fad8a6c3a67a39202",
            "f082b219699d496d99d7461e8799d8df",
            "3995cebb75f440dda5576387051d8f99",
            "d383317e3328491b9c4860ba4b92e26d",
            "10c2f38bbd834691895ba00e871b6cce",
            "cb3740614b2941c2b5efd694ca6a0c06",
            "f9e0ddadb2c44856838ffbae203996e3",
            "dffda3c44c2d403697946437218afe41",
            "2ea95f3faa7d462198321e7ca6b0b0f0",
            "241834636ada4dd3a380641e01f2d682",
            "d5f8e88ee3a54fe5bcb704dc4a9e3345",
            "3fdc57e0e82d472c9508df6254883ddc",
            "047dd2766f7d4cbbaadb41857722668c",
            "22a715bf5918421390418d0d27696702",
            "9da5863b3caa4176bc6acd4165a13e7e",
            "07bd1ebe1adb4027aacfaefa740059fa",
            "3e434771eac24831be789a32f2ca3ade",
            "bd1173049fef45d28c1446ef7b010849",
            "a99fd0aed5634471a383e51ccd847375",
            "b58badfc1b3d407fa5d6b7c4cc7b5f1f",
            "91756cdeb8264060a785a1b103d0963b",
            "52c483d942914b5e9c5a2e5df0fefb45",
            "17b5bf6e9bc64be29247678ef9d390c9",
            "65f55076b7f7417eb6c95b3590035d18",
            "0dd72e0474b447a5897f852df127650a",
            "29796049c27d477b9783c1a9bed76844",
            "292d5df1ee6040ff81a65e0f90533eee",
            "40d533dc2978448db89116ce2938d1f9",
            "8bfb756d6771402e8bef9fcf53b7bfed",
            "bcdaa96e99d34332acf9023fe49aceac",
            "50ff1904e76a489e9a28f06eac45a338",
            "85a3a6c9cfc840b89d1684f4ca467eb4",
            "28b7a2edffba46929b36b84e5c10a35d",
            "446ca48f13d748248591eb199a02aec0",
            "49f10919a715451da4a98d796a981dd9",
            "2a0be6f7252a477dabbc5947329bc457",
            "d7a12154345a45e79913351332dba44a",
            "3c5856fd75ce4a71a598c695183aa65f",
            "ecf17f4f517e47caabcf3f5a94793bd4",
            "37a9d8686a1c425e8271629c43ea0ac6",
            "a9ed8391192e4df6b9bdfa857f4d0c1a",
            "5d03664b2dc1450687085ad28ace76d6",
            "d9dfa3c2a5384cc3ba0d474bd7a853e3",
            "270470552c244a6aad3b4841c8f093b9",
            "92f40e881d5649b98cb6548ecab6ecaf"
          ]
        },
        "id": "U_Gf3Lv4GnWo",
        "outputId": "eda1aa0e-fdbf-444b-9262-2fcce2f681c7"
      },
      "execution_count": 11,
      "outputs": [
        {
          "output_type": "stream",
          "name": "stderr",
          "text": [
            "No model was supplied, defaulted to sshleifer/distilbart-cnn-12-6 and revision a4f8f3e (https://huggingface.co/sshleifer/distilbart-cnn-12-6).\n",
            "Using a pipeline without specifying a model name and revision in production is not recommended.\n",
            "/usr/local/lib/python3.10/dist-packages/huggingface_hub/file_download.py:1132: FutureWarning: `resume_download` is deprecated and will be removed in version 1.0.0. Downloads always resume when possible. If you want to force a new download, use `force_download=True`.\n",
            "  warnings.warn(\n",
            "/usr/local/lib/python3.10/dist-packages/huggingface_hub/utils/_token.py:89: UserWarning: \n",
            "The secret `HF_TOKEN` does not exist in your Colab secrets.\n",
            "To authenticate with the Hugging Face Hub, create a token in your settings tab (https://huggingface.co/settings/tokens), set it as secret in your Google Colab and restart your session.\n",
            "You will be able to reuse this secret in all of your notebooks.\n",
            "Please note that authentication is recommended but still optional to access public models or datasets.\n",
            "  warnings.warn(\n"
          ]
        },
        {
          "output_type": "display_data",
          "data": {
            "text/plain": [
              "config.json:   0%|          | 0.00/1.80k [00:00<?, ?B/s]"
            ],
            "application/vnd.jupyter.widget-view+json": {
              "version_major": 2,
              "version_minor": 0,
              "model_id": "b5492524c1ee4f68baa7778c82126cab"
            }
          },
          "metadata": {}
        },
        {
          "output_type": "display_data",
          "data": {
            "text/plain": [
              "pytorch_model.bin:   0%|          | 0.00/1.22G [00:00<?, ?B/s]"
            ],
            "application/vnd.jupyter.widget-view+json": {
              "version_major": 2,
              "version_minor": 0,
              "model_id": "f082b219699d496d99d7461e8799d8df"
            }
          },
          "metadata": {}
        },
        {
          "output_type": "display_data",
          "data": {
            "text/plain": [
              "tokenizer_config.json:   0%|          | 0.00/26.0 [00:00<?, ?B/s]"
            ],
            "application/vnd.jupyter.widget-view+json": {
              "version_major": 2,
              "version_minor": 0,
              "model_id": "047dd2766f7d4cbbaadb41857722668c"
            }
          },
          "metadata": {}
        },
        {
          "output_type": "display_data",
          "data": {
            "text/plain": [
              "vocab.json:   0%|          | 0.00/899k [00:00<?, ?B/s]"
            ],
            "application/vnd.jupyter.widget-view+json": {
              "version_major": 2,
              "version_minor": 0,
              "model_id": "65f55076b7f7417eb6c95b3590035d18"
            }
          },
          "metadata": {}
        },
        {
          "output_type": "display_data",
          "data": {
            "text/plain": [
              "merges.txt:   0%|          | 0.00/456k [00:00<?, ?B/s]"
            ],
            "application/vnd.jupyter.widget-view+json": {
              "version_major": 2,
              "version_minor": 0,
              "model_id": "49f10919a715451da4a98d796a981dd9"
            }
          },
          "metadata": {}
        }
      ]
    },
    {
      "cell_type": "markdown",
      "source": [
        "#creating chunks and summarizing from every 1000 words and combining all by append for overall summarization."
      ],
      "metadata": {
        "id": "Ikg3v7fSJ3Ry"
      }
    },
    {
      "cell_type": "code",
      "source": [
        "num_iters = int(len(text)/1000)\n",
        "summarizer('summarized_text')\n",
        "summarized_text=[]\n",
        "for i in range (0,num_iters+1):\n",
        "  start=0\n",
        "  start=i*1000\n",
        "  end=(i+1)*1000\n",
        "  out= summarizer(text[start:end], min_length=25,max_length=50)\n",
        "  out=out[0]\n",
        "  out=out['summary_text']\n",
        "\n",
        "  summarized_text.append(out)\n",
        "  print(summarized_text)"
      ],
      "metadata": {
        "colab": {
          "base_uri": "https://localhost:8080/"
        },
        "id": "5Pz5WFEMGvdP",
        "outputId": "48a9ad4b-6e8e-4506-f312-c25123e030ab"
      },
      "execution_count": 13,
      "outputs": [
        {
          "output_type": "stream",
          "name": "stderr",
          "text": [
            "Your max_length is set to 142, but your input_length is only 5. Since this is a summarization task, where outputs shorter than the input are typically wanted, you might consider decreasing max_length manually, e.g. summarizer('...', max_length=2)\n"
          ]
        },
        {
          "output_type": "stream",
          "name": "stdout",
          "text": [
            "[' Social media has both positive and negative effects on our mental health . We discuss the pros and cons of social media on mental health and ways to use social media in a healthy way .']\n",
            "[' Social media has both positive and negative effects on our mental health . We discuss the pros and cons of social media on mental health and ways to use social media in a healthy way .', ' Social media has helped reduce the stigma surrounding mental health and has encouraged people to seek help . However social media also has its downsides when it comes to mental health . One of the most significant negative impacts of social media is the impact it']\n",
            "[' Social media has both positive and negative effects on our mental health . We discuss the pros and cons of social media on mental health and ways to use social media in a healthy way .', ' Social media has helped reduce the stigma surrounding mental health and has encouraged people to seek help . However social media also has its downsides when it comes to mental health . One of the most significant negative impacts of social media is the impact it', \" Social media has both positive and negative impacts on Mental Health . It's essential to recognize that social media is not a replacement for real-life connections while social media can provide a sense of community . If you find yourself struggling with mental health\"]\n",
            "[' Social media has both positive and negative effects on our mental health . We discuss the pros and cons of social media on mental health and ways to use social media in a healthy way .', ' Social media has helped reduce the stigma surrounding mental health and has encouraged people to seek help . However social media also has its downsides when it comes to mental health . One of the most significant negative impacts of social media is the impact it', \" Social media has both positive and negative impacts on Mental Health . It's essential to recognize that social media is not a replacement for real-life connections while social media can provide a sense of community . If you find yourself struggling with mental health\", \" th mental health issues it's important to seek professional help for help . Please share your thoughts or questions about this topic please share them in the comments below .\"]\n"
          ]
        }
      ]
    },
    {
      "cell_type": "code",
      "source": [
        "len(str(summarized_text))"
      ],
      "metadata": {
        "colab": {
          "base_uri": "https://localhost:8080/"
        },
        "id": "KO3_Hr3rHBbx",
        "outputId": "e408e48e-d5f3-4fd1-bea8-3fb70c8ba727"
      },
      "execution_count": 14,
      "outputs": [
        {
          "output_type": "execute_result",
          "data": {
            "text/plain": [
              "909"
            ]
          },
          "metadata": {},
          "execution_count": 14
        }
      ]
    },
    {
      "cell_type": "code",
      "source": [
        "str(summarized_text)"
      ],
      "metadata": {
        "colab": {
          "base_uri": "https://localhost:8080/",
          "height": 140
        },
        "id": "ae_tX4pFHKcx",
        "outputId": "dfc32c8e-ca95-4fdd-bb41-d0950b899049"
      },
      "execution_count": 15,
      "outputs": [
        {
          "output_type": "execute_result",
          "data": {
            "text/plain": [
              "'[\\' Social media has both positive and negative effects on our mental health . We discuss the pros and cons of social media on mental health and ways to use social media in a healthy way .\\', \\' Social media has helped reduce the stigma surrounding mental health and has encouraged people to seek help . However social media also has its downsides when it comes to mental health . One of the most significant negative impacts of social media is the impact it\\', \" Social media has both positive and negative impacts on Mental Health . It\\'s essential to recognize that social media is not a replacement for real-life connections while social media can provide a sense of community . If you find yourself struggling with mental health\", \" th mental health issues it\\'s important to seek professional help for help . Please share your thoughts or questions about this topic please share them in the comments below .\"]'"
            ],
            "application/vnd.google.colaboratory.intrinsic+json": {
              "type": "string"
            }
          },
          "metadata": {},
          "execution_count": 15
        }
      ]
    }
  ]
}